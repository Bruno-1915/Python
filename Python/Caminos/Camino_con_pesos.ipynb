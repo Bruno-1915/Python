{
 "cells": [
  {
   "cell_type": "code",
   "execution_count": 1,
   "metadata": {},
   "outputs": [],
   "source": [
    "import numpy as np\n",
    "import matplotlib.pyplot as plt\n",
    "import time"
   ]
  },
  {
   "cell_type": "code",
   "execution_count": 2,
   "metadata": {},
   "outputs": [],
   "source": [
    "# Esta funcion obtiene el camino con mayor peso, nodo por nodo, y escoge el que tenga el mayor peso \n",
    "\n",
    "def mayorCamino(W, bandera):\n",
    "    \n",
    "    temp = 0\n",
    "    indice_i = 0\n",
    "    indice_j = 0\n",
    "    L = []\n",
    "    LL = []\n",
    "    \n",
    "    for i in range(n):\n",
    "        \n",
    "        for j in range(m):\n",
    "            \n",
    "            temp1, lista, listaIndices = caminoDadoPivote(W, i, j)\n",
    "            \n",
    "            if temp < temp1:\n",
    "                \n",
    "                L = lista\n",
    "                LL = listaIndices\n",
    "                temp = temp1\n",
    "                indice_i = i\n",
    "                indice_j = j\n",
    "    \n",
    "    if bandera:\n",
    "        print(\"El camino con mayor peso es:\", L)\n",
    "    else:\n",
    "        print(\"El camino con mayor peso es...\")\n",
    "    print(\"El cual tiene un peso de:\", temp)\n",
    "    print(\"La geodesica es la trayectoria que pasa por el nodo: W[{}, {}] = {:.2f}\".format(indice_i, indice_j, W[indice_i, indice_j]))\n",
    "            \n",
    "    return temp, L, LL, indice_i, indice_j            "
   ]
  },
  {
   "cell_type": "code",
   "execution_count": 3,
   "metadata": {},
   "outputs": [],
   "source": [
    "# #Esta funcion obtiene el camino (completo) con mayor peso que pasa por el nodo i, j\n",
    "\n",
    "def caminoDadoPivote(W, i, j):\n",
    "    \n",
    "    #print(\"ADELANTE\")\n",
    "    suma1, lista1, listaIndices1 = adelante(W, i, j, 0, [], [])\n",
    "    #print(\"ATRAS\")\n",
    "    suma2, lista2, listaIndices2 = atras(W, i, j, 0, [], [])\n",
    "    suma = suma1 + suma2 - W[i, j]\n",
    "    L = []\n",
    "    LL = []\n",
    "    \n",
    "    for i in range(1, len(lista2)):\n",
    "        \n",
    "        L.append(lista2[-i])\n",
    "        \n",
    "    for i in range(len(lista1)):\n",
    "        \n",
    "        L.append(lista1[i])\n",
    "        \n",
    "    for i in range(1, len(listaIndices2)):\n",
    "        \n",
    "        LL.append(listaIndices2[-i])\n",
    "        \n",
    "    for i in range(len(listaIndices1)):\n",
    "        \n",
    "        LL.append(listaIndices1[i])\n",
    "    \n",
    "    return suma, L, LL"
   ]
  },
  {
   "cell_type": "code",
   "execution_count": 4,
   "metadata": {},
   "outputs": [],
   "source": [
    "# #Funcion adelante\n",
    "# #Esta función nos ayuda a calcular el camino con mayor peso que al nodo superior derecho\n",
    "# #partiendo del nodo i, j\n",
    "\n",
    "def adelante(W, i, j, suma, L, LL):\n",
    "    \n",
    "    n, m = W.shape\n",
    "    \n",
    "    if i == 0 and m - 1 == j:\n",
    "        \n",
    "        #print(W[0,m - 1])\n",
    "        suma += W[0,m - 1]\n",
    "        L.append(W[0, m - 1])\n",
    "        LL.append((i, j))\n",
    "        i = 0\n",
    "        j = m-1\n",
    "        \n",
    "        return suma, L, LL\n",
    "    \n",
    "    elif i == 0:\n",
    "        \n",
    "        pivote = W[i, j]\n",
    "        #print(pivote)\n",
    "        suma += pivote\n",
    "        L.append(pivote)\n",
    "        LL.append((i, j))\n",
    "        suma, L, LL = adelante(W, i, j + 1, suma, L, LL)\n",
    "\n",
    "        return suma, L, LL\n",
    "        \n",
    "    elif j == m - 1:\n",
    "        \n",
    "        pivote = W[i, j]\n",
    "        #print(pivote)\n",
    "        suma += pivote\n",
    "        L.append(pivote)\n",
    "        LL.append((i,j))\n",
    "        suma, L, LL = adelante(W, i - 1, j, suma, L, LL)\n",
    "        \n",
    "        return suma, L, LL\n",
    "        \n",
    "    else:\n",
    "        \n",
    "        pivote = W[i, j]\n",
    "        #print(pivote)\n",
    "        suma += pivote\n",
    "        L.append(pivote)\n",
    "        LL.append((i, j))\n",
    "        \n",
    "        if W[i - 1, j] < W[i, j + 1]:\n",
    "            \n",
    "            suma, L, LL = adelante(W, i, j + 1, suma, L, LL)\n",
    "            \n",
    "        else:\n",
    "            \n",
    "            suma, L, LL = adelante(W, i - 1, j, suma, L, LL)\n",
    "            \n",
    "        return suma, L, LL"
   ]
  },
  {
   "cell_type": "code",
   "execution_count": 5,
   "metadata": {},
   "outputs": [],
   "source": [
    "# Funcion atras\n",
    "# Esta función nos ayuda a calcular el camino con mayor peso que llega al nodo i, j \n",
    "# partiendo del nodo inderior izquierdo\n",
    "\n",
    "def atras(W, i, j, suma, L, LL):\n",
    "    \n",
    "    n, m = W.shape\n",
    "    \n",
    "    if i == n-1 and 0 == j:\n",
    "        \n",
    "        #print(W[n-1, 0])\n",
    "        suma += W[n-1,0]\n",
    "        L.append(W[n-1, 0])\n",
    "        LL.append((i, j))\n",
    "        i = n - 1\n",
    "        j = 0\n",
    "        \n",
    "        return suma, L, LL\n",
    "    \n",
    "    elif i == n - 1:\n",
    "        \n",
    "        pivote = W[i, j]\n",
    "        #print(pivote)\n",
    "        suma += pivote\n",
    "        L.append(pivote)\n",
    "        LL.append((i, j))\n",
    "        suma, L, LL = atras(W, i, j - 1, suma, L, LL)\n",
    "        \n",
    "        return suma, L, LL\n",
    "    \n",
    "    elif j == 0:\n",
    "        \n",
    "        pivote = W[i, j]\n",
    "        #print(pivote)\n",
    "        suma += pivote\n",
    "        L.append(pivote)\n",
    "        LL.append((i, j))\n",
    "        suma, L, LL = atras(W, i + 1, j, suma, L, LL)\n",
    "        \n",
    "        return suma, L, LL\n",
    "    \n",
    "    else:\n",
    "        \n",
    "        pivote = W[i, j]\n",
    "        #print(pivote)\n",
    "        suma+= pivote\n",
    "        L.append(pivote)\n",
    "        LL.append((i, j))\n",
    "        \n",
    "        if W[i + 1, j] < W[i, j - 1]:\n",
    "            \n",
    "            suma, L, LL = atras(W, i, j - 1, suma, L, LL)\n",
    "            \n",
    "        else:\n",
    "            \n",
    "            suma, L, LL = atras(W, i + 1, j, suma, L, LL)\n",
    "        \n",
    "        return suma, L, LL"
   ]
  },
  {
   "cell_type": "code",
   "execution_count": 6,
   "metadata": {},
   "outputs": [],
   "source": [
    "n, m = 5, 4\n",
    "W = np.random.exponential(scale = 1, size = (n, m))"
   ]
  },
  {
   "cell_type": "code",
   "execution_count": 7,
   "metadata": {},
   "outputs": [
    {
     "data": {
      "text/plain": [
       "array([[0.09320027, 1.1150813 , 0.71605356, 1.15231456],\n",
       "       [0.01933274, 0.19035526, 1.66060334, 0.04760427],\n",
       "       [0.27142381, 0.38609782, 1.47411209, 0.11523318],\n",
       "       [0.76963217, 1.10461539, 1.02917666, 1.01457679],\n",
       "       [1.79893547, 2.09571622, 0.46172578, 0.2269349 ]])"
      ]
     },
     "execution_count": 7,
     "metadata": {},
     "output_type": "execute_result"
    }
   ],
   "source": [
    "W"
   ]
  },
  {
   "cell_type": "code",
   "execution_count": 8,
   "metadata": {},
   "outputs": [
    {
     "name": "stdout",
     "output_type": "stream",
     "text": [
      "El camino con mayor peso es: [1.7989354707350502, 2.0957162163009038, 1.1046153937711358, 1.0291766585953182, 1.474112091133501, 1.6606033447464836, 0.7160535611052227, 1.152314562167224]\n",
      "El cual tiene un peso de: 11.031527298554842\n",
      "La geodesica es la trayectoria que pasa por el nodo: W[4, 0] = 1.80\n",
      "--- 0.0006890296936035156 segundos ---\n"
     ]
    }
   ],
   "source": [
    "inicio = time.time()\n",
    "suma, L, LL, i, j = mayorCamino(W, True)\n",
    "print(\"--- %s segundos ---\" % (time.time() - inicio))"
   ]
  },
  {
   "cell_type": "code",
   "execution_count": 9,
   "metadata": {},
   "outputs": [
    {
     "name": "stdout",
     "output_type": "stream",
     "text": [
      "El camino con mayor peso es...\n",
      "El cual tiene un peso de: 2985.183652828211\n",
      "La geodesica es la trayectoria que pasa por el nodo: W[927, 2] = 0.40\n",
      "#####################################\n",
      "El camino con mayor peso es...\n",
      "El cual tiene un peso de: 3107.6493368124775\n",
      "La geodesica es la trayectoria que pasa por el nodo: W[980, 3] = 0.05\n",
      "#####################################\n",
      "El camino con mayor peso es...\n",
      "El cual tiene un peso de: 2974.562629760099\n",
      "La geodesica es la trayectoria que pasa por el nodo: W[887, 1] = 1.48\n",
      "#####################################\n",
      "El camino con mayor peso es...\n",
      "El cual tiene un peso de: 3040.387813658075\n",
      "La geodesica es la trayectoria que pasa por el nodo: W[999, 1] = 0.81\n",
      "#####################################\n",
      "El camino con mayor peso es...\n",
      "El cual tiene un peso de: 2971.372978786128\n",
      "La geodesica es la trayectoria que pasa por el nodo: W[973, 3] = 0.25\n",
      "#####################################\n",
      "--- 39.27838134765625 segundos ---\n"
     ]
    }
   ],
   "source": [
    "inicio = time.time()\n",
    "n = 1000\n",
    "for i in range(5):\n",
    "    W = np.random.exponential(scale = 1, size = (n, n))\n",
    "    suma, L, LL, i, j = mayorCamino(W, False)\n",
    "    print(\"#####################################\")\n",
    "\n",
    "print(\"--- %s segundos ---\" % (time.time() - inicio))"
   ]
  },
  {
   "cell_type": "markdown",
   "metadata": {},
   "source": [
    "Podemos ver que para $n$ suficientemente grande $L(n,n) \\approx 3n$"
   ]
  },
  {
   "cell_type": "code",
   "execution_count": 10,
   "metadata": {},
   "outputs": [
    {
     "data": {
      "image/png": "[encoded data removed]",
      "text/plain": [
       "<Figure size 432x288 with 1 Axes>"
      ]
     },
     "metadata": {
      "needs_background": "light"
     },
     "output_type": "display_data"
    }
   ],
   "source": [
    "x = [i for i in range(n)]\n",
    "for i in range(n):\n",
    "    y = [i for j in range(n)]\n",
    "    plt.plot(x, y, '.', color = 'k')\n",
    "X = []\n",
    "Y = []\n",
    "for i in LL:\n",
    "    X.append(i[0])\n",
    "    Y.append(i[1])\n",
    "plt.plot(X, Y, color = 'r');"
   ]
  },
  {
   "cell_type": "markdown",
   "metadata": {},
   "source": [
    "La geodésica parece tomar una linea recta entre los nodos de ambas esquinas, lo cual podemos considerar que se debe a que como tenemos que nuestros pesos están dados por una variable aleatoria y como nuestra n es bastante grande entonces por el teorema de límite central podemos considerar que nuestra distribución es normal, lo cual implica que \"arriba\" de la diagonal tenemos practicamente (en conjunto) el mismo peso que \"debajo\" de la diagonal. Por ello la geodésica no toma una clara tendencia a irse por debajo o arriba sino que oscila entre puntos cercanos a la diagonal."
   ]
  }
 ],
 "metadata": {
  "kernelspec": {
   "display_name": "Python 3",
   "language": "python",
   "name": "python3"
  },
  "language_info": {
   "codemirror_mode": {
    "name": "ipython",
    "version": 3
   },
   "file_extension": ".py",
   "mimetype": "text/x-python",
   "name": "python",
   "nbconvert_exporter": "python",
   "pygments_lexer": "ipython3",
   "version": "3.7.3"
  }
 },
 "nbformat": 4,
 "nbformat_minor": 2
}
